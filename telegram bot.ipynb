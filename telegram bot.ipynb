{
 "cells": [
  {
   "cell_type": "code",
   "execution_count": 122,
   "metadata": {},
   "outputs": [
    {
     "name": "stdout",
     "output_type": "stream",
     "text": [
      "1 1\n",
      "2 2\n",
      "3 4\n"
     ]
    }
   ],
   "source": []
  },
  {
   "cell_type": "code",
   "execution_count": 128,
   "metadata": {},
   "outputs": [
    {
     "data": {
      "text/plain": [
       "80"
      ]
     },
     "execution_count": 128,
     "metadata": {},
     "output_type": "execute_result"
    }
   ],
   "source": [
    "    \n",
    "sum(sum(int(i) for i in bin(j)[2:]) for j in range(32))"
   ]
  },
  {
   "cell_type": "code",
   "execution_count": 80,
   "metadata": {},
   "outputs": [
    {
     "data": {
      "text/plain": [
       "[24]"
      ]
     },
     "execution_count": 80,
     "metadata": {},
     "output_type": "execute_result"
    }
   ],
   "source": [
    "a = list(range(25))\n",
    "a[:-2:-1]"
   ]
  },
  {
   "cell_type": "code",
   "execution_count": 47,
   "metadata": {},
   "outputs": [
    {
     "name": "stdout",
     "output_type": "stream",
     "text": [
      "hello name=kk, val=1\n",
      "hello name=asdf, val=3\n",
      "hello name=asdf2, val=2\n"
     ]
    }
   ],
   "source": [
    "# partial(echo, post=post)\n",
    "from functools import partial\n",
    "\n",
    "class Test():\n",
    "    def hello(self, val, name):\n",
    "        print(f'hello name={name}, val={val}')\n",
    "        \n",
    "    def gimme(self, name):\n",
    "        return partial(self.hello, name=name)\n",
    "\n",
    "a = Test()\n",
    "a.hello(1, 'kk')\n",
    "ca = a.gimme('asdf')\n",
    "ca2 = a.gimme('asdf2')\n",
    "ca(3)\n",
    "ca2(2)\n",
    "# a.set_alive()"
   ]
  },
  {
   "cell_type": "code",
   "execution_count": 3,
   "metadata": {},
   "outputs": [],
   "source": [
    "def wait_until(predicate, period=2):\n",
    "    while True:\n",
    "        if somepredicate(): return\n",
    "        time.sleep(period)\n"
   ]
  },
  {
   "cell_type": "code",
   "execution_count": 1,
   "metadata": {},
   "outputs": [],
   "source": [
    "import logging\n",
    "from telegram import Update\n",
    "from telegram.ext import Updater, CommandHandler, MessageHandler, Filters, CallbackContext\n",
    "import time\n",
    "\n",
    "def get_key():\n",
    "    with open('./bot_token.txt') as f:\n",
    "        return f.readline()\n",
    "\n",
    "\n",
    "    \n",
    "def start(update: Update, context: CallbackContext) -> None:\n",
    "    update.message.reply_text('Hi!')\n",
    "\n",
    "store = {}\n",
    "\n",
    "def echo(update: Update, context: CallbackContext) -> None:\n",
    "    store['c'] = context\n",
    "    store['u'] = update\n",
    "    print(context)\n",
    "    update.message.reply_text(update.message.text)\n",
    "\n",
    "def init_bot():\n",
    "    updater = Updater(get_key(), use_context=True)\n",
    "    dispatcher = updater.dispatcher\n",
    "    dispatcher.add_handler(CommandHandler(\"start\", start))\n",
    "    dispatcher.add_handler(MessageHandler(Filters.text & ~Filters.command, echo))\n",
    "    updater.start_polling()\n",
    "#     updater.idle()\n",
    "    return updater\n",
    "\n",
    "def main():\n",
    "    updater = init_bot()\n",
    "    updater.stop()\n",
    "\n",
    "if __name__ == '__main__':\n",
    "    pass\n",
    "#     main()\n"
   ]
  },
  {
   "cell_type": "code",
   "execution_count": 21,
   "metadata": {},
   "outputs": [
    {
     "name": "stderr",
     "output_type": "stream",
     "text": [
      "2020-12-12 00:30:21,740 - apscheduler.scheduler - INFO - Scheduler started\n"
     ]
    },
    {
     "name": "stdout",
     "output_type": "stream",
     "text": [
      "<telegram.ext.callbackcontext.CallbackContext object at 0x0000020EC6998FD0>\n"
     ]
    }
   ],
   "source": [
    "updater = init_bot()"
   ]
  },
  {
   "cell_type": "code",
   "execution_count": 22,
   "metadata": {},
   "outputs": [
    {
     "name": "stderr",
     "output_type": "stream",
     "text": [
      "2020-12-12 00:30:27,996 - apscheduler.scheduler - INFO - Scheduler has been shut down\n"
     ]
    }
   ],
   "source": [
    "updater.stop()"
   ]
  },
  {
   "cell_type": "code",
   "execution_count": 2,
   "metadata": {},
   "outputs": [],
   "source": [
    "updater = Updater('705564162:AAGbxD9mKJKL1P8GLdNQBjt4a7SJjJDUBrQ', use_context=True)\n",
    "updater.start_polling()\n",
    "updater.bot.send_message(chat_id=134936683, text='STARTED')\n",
    "try:\n",
    "    while True:\n",
    "        time.sleep(1)\n",
    "except KeyboardInterrupt:\n",
    "    pass\n",
    "finally:\n",
    "    updater.stop()"
   ]
  },
  {
   "cell_type": "code",
   "execution_count": 27,
   "metadata": {
    "scrolled": false
   },
   "outputs": [
    {
     "ename": "ConnectionRefusedError",
     "evalue": "[WinError 10061] No connection could be made because the target machine actively refused it",
     "output_type": "error",
     "traceback": [
      "\u001b[1;31m----------------------------------------------\u001b[0m",
      "\u001b[1;31mConnectionRefusedError\u001b[0mTraceback (most recent call last)",
      "\u001b[1;32m<ipython-input-27-650fb7292731>\u001b[0m in \u001b[0;36m<module>\u001b[1;34m\u001b[0m\n\u001b[0;32m      1\u001b[0m \u001b[1;32mimport\u001b[0m \u001b[0msocket\u001b[0m\u001b[1;33m\u001b[0m\u001b[1;33m\u001b[0m\u001b[0m\n\u001b[0;32m      2\u001b[0m \u001b[0ms\u001b[0m \u001b[1;33m=\u001b[0m \u001b[0msocket\u001b[0m\u001b[1;33m.\u001b[0m\u001b[0msocket\u001b[0m\u001b[1;33m(\u001b[0m\u001b[0msocket\u001b[0m\u001b[1;33m.\u001b[0m\u001b[0mAF_INET\u001b[0m\u001b[1;33m,\u001b[0m \u001b[0msocket\u001b[0m\u001b[1;33m.\u001b[0m\u001b[0mSOCK_STREAM\u001b[0m\u001b[1;33m)\u001b[0m\u001b[1;33m\u001b[0m\u001b[1;33m\u001b[0m\u001b[0m\n\u001b[1;32m----> 3\u001b[1;33m \u001b[0ms\u001b[0m\u001b[1;33m.\u001b[0m\u001b[0mconnect\u001b[0m\u001b[1;33m(\u001b[0m\u001b[1;33m(\u001b[0m\u001b[1;34m'185.207.164.140'\u001b[0m\u001b[1;33m,\u001b[0m \u001b[1;36m8049\u001b[0m\u001b[1;33m)\u001b[0m\u001b[1;33m)\u001b[0m\u001b[1;33m\u001b[0m\u001b[1;33m\u001b[0m\u001b[0m\n\u001b[0m\u001b[0;32m      4\u001b[0m \u001b[1;32mwhile\u001b[0m \u001b[1;36m1\u001b[0m\u001b[1;33m:\u001b[0m\u001b[1;33m\u001b[0m\u001b[1;33m\u001b[0m\u001b[0m\n\u001b[0;32m      5\u001b[0m     \u001b[0mdata\u001b[0m \u001b[1;33m=\u001b[0m \u001b[0ms\u001b[0m\u001b[1;33m.\u001b[0m\u001b[0mrecv\u001b[0m\u001b[1;33m(\u001b[0m\u001b[1;36m1024\u001b[0m\u001b[1;33m)\u001b[0m\u001b[1;33m\u001b[0m\u001b[1;33m\u001b[0m\u001b[0m\n",
      "\u001b[1;31mConnectionRefusedError\u001b[0m: [WinError 10061] No connection could be made because the target machine actively refused it"
     ]
    }
   ],
   "source": [
    "import socket\n",
    "s = socket.socket(socket.AF_INET, socket.SOCK_STREAM)\n",
    "s.connect(('185.207.164.140', 8049))\n",
    "while 1:\n",
    "    data = s.recv(1024)\n",
    "    print('Received', repr(data))\n",
    "s.close()\n"
   ]
  },
  {
   "cell_type": "code",
   "execution_count": null,
   "metadata": {},
   "outputs": [
    {
     "name": "stdout",
     "output_type": "stream",
     "text": [
      "Server started http://localhost:8016\n",
      "<__main__.MyServer object at 0x0000026F7E926940>\n"
     ]
    },
    {
     "name": "stderr",
     "output_type": "stream",
     "text": [
      "127.0.0.1 - - [20/Dec/2020 00:01:18] \"GET /a='asdfasd%20asdf' HTTP/1.1\" 200 -\n"
     ]
    }
   ],
   "source": [
    "# Python 3 server example\n",
    "from http.server import BaseHTTPRequestHandler, HTTPServer\n",
    "import time\n",
    "\n",
    "hostName = \"localhost\"\n",
    "serverPort = 8016\n",
    "\n",
    "class MyServer(BaseHTTPRequestHandler):\n",
    "    def do_GET(self):\n",
    "        print(self.__dir__())\n",
    "        self.send_response(200)\n",
    "        self.send_header(\"Content-type\", \"text/html\")\n",
    "        self.end_headers()\n",
    "        self.wfile.write(bytes(\"<html><head><title>https://pythonbasics.org</title></head>\", \"utf-8\"))\n",
    "        self.wfile.write(bytes(\"<p>Request: %s</p>\" % self.path, \"utf-8\"))\n",
    "        self.wfile.write(bytes(\"<body>\", \"utf-8\"))\n",
    "        self.wfile.write(bytes(\"<p>This is an example web server.</p>\", \"utf-8\"))\n",
    "        self.wfile.write(bytes(\"</body></html>\", \"utf-8\"))\n",
    "\n",
    "    def do_GET(self):\n",
    "        print(self)\n",
    "        self.send_response(200)\n",
    "        self.send_header(\"Content-type\", \"text/html\")\n",
    "        self.end_headers()\n",
    "        self.wfile.write(bytes(\"<html><head><title>https://pythonbasics.org</title></head>\", \"utf-8\"))\n",
    "        self.wfile.write(bytes(\"<p>Request: %s</p>\" % self.path, \"utf-8\"))\n",
    "        self.wfile.write(bytes(\"<body>\", \"utf-8\"))\n",
    "        self.wfile.write(bytes(\"<p>This is an example web server.</p>\", \"utf-8\"))\n",
    "        self.wfile.write(bytes(\"</body></html>\", \"utf-8\"))\n",
    "\n",
    "if __name__ == \"__main__\":        \n",
    "    webServer = HTTPServer((hostName, serverPort), MyServer)\n",
    "    print(\"Server started http://%s:%s\" % (hostName, serverPort))\n",
    "\n",
    "    try:\n",
    "        webServer.serve_forever()\n",
    "    except KeyboardInterrupt:\n",
    "        pass\n",
    "\n",
    "    webServer.server_close()\n",
    "    print(\"Server stopped.\")"
   ]
  },
  {
   "cell_type": "code",
   "execution_count": 20,
   "metadata": {
    "scrolled": true
   },
   "outputs": [],
   "source": [
    "from http.server import BaseHTTPRequestHandler, HTTPServer\n",
    "import threading\n",
    "import random\n",
    "import json\n",
    "\n",
    "\n",
    "class MyHTTPHandler(BaseHTTPRequestHandler):\n",
    "    def __init__(self, outside_world):\n",
    "        self.outside_world = outside_world\n",
    "\n",
    "    def __call__(self, *args, **kwargs):\n",
    "        \"\"\" Handle a request \"\"\"\n",
    "        super().__init__(*args, **kwargs)\n",
    "        \n",
    "    def _set_headers(self):\n",
    "        self.send_response(200)\n",
    "        self.send_header('Content-type', 'text/html')\n",
    "        self.end_headers()\n",
    "\n",
    "    def do_GET(self):\n",
    "        self.send_response(404)\n",
    "        self.send_header('Content-type', 'text/html')\n",
    "        self.end_headers()\n",
    "\n",
    "    def do_HEAD(self):\n",
    "        self._set_headers()\n",
    "\n",
    "    def do_POST(self):\n",
    "        self._set_headers()\n",
    "        self.data_string = self.rfile.read(int(self.headers['Content-Length']))\n",
    "        self.send_response(200)\n",
    "        self.end_headers()\n",
    "        js_data = json.loads(self.data_string)\n",
    "#         print(\"{}\".format(js_data))\n",
    "        self.outside_world.append(js_data)\n",
    "\n",
    "def my_serve_forever(server):\n",
    "    server.serve_forever()\n",
    "        \n",
    "def start_server(outside_world):\n",
    "    hostName = \"localhost\"\n",
    "    serverPort = 8049\n",
    "    handler = MyHTTPHandler(outside_world)\n",
    "    webServer = HTTPServer((hostName, serverPort), handler)\n",
    "    \n",
    "    thread = threading.Thread(target = my_serve_forever, args=(webServer,))\n",
    "    thread.daemon = True\n",
    "    thread.start()\n",
    "    def killswitch():\n",
    "        webServer.shutdown()\n",
    "    return killswitch\n",
    "if __name__ == \"__main__\":\n",
    "    killswitch = start_server(glob)"
   ]
  },
  {
   "cell_type": "code",
   "execution_count": 15,
   "metadata": {},
   "outputs": [
    {
     "data": {
      "text/plain": [
       "\"{'key': 'value'}\""
      ]
     },
     "execution_count": 15,
     "metadata": {},
     "output_type": "execute_result"
    }
   ],
   "source": [
    "# glob = []\n",
    "# killswitch()\n",
    "str(glob[-1])"
   ]
  },
  {
   "cell_type": "code",
   "execution_count": 7,
   "metadata": {},
   "outputs": [],
   "source": [
    "import requests\n",
    "# r = requests.post('http://185.207.164.140:8049/', json={\"key\": \"value\"})\n",
    "r = requests.post('http://185.207.164.140:8049/', json={\"key\": [1, 2, 3]})"
   ]
  },
  {
   "cell_type": "code",
   "execution_count": 56,
   "metadata": {},
   "outputs": [],
   "source": []
  },
  {
   "cell_type": "code",
   "execution_count": 116,
   "metadata": {},
   "outputs": [
    {
     "name": "stdout",
     "output_type": "stream",
     "text": [
      "\n",
      "\n",
      "\n",
      "\n",
      "\n",
      "\n",
      "\n",
      "\n",
      "\n",
      "\n",
      "\n",
      "\n",
      "\n",
      "\n",
      "\n",
      "\n",
      "\n",
      "\n",
      "\n",
      "\n",
      "\n",
      "\n",
      "\n",
      "\n",
      "\n",
      "\n"
     ]
    }
   ],
   "source": [
    "print('\\n'*25)"
   ]
  }
 ],
 "metadata": {
  "kernelspec": {
   "display_name": "Python 3",
   "language": "python",
   "name": "python3"
  },
  "language_info": {
   "codemirror_mode": {
    "name": "ipython",
    "version": 3
   },
   "file_extension": ".py",
   "mimetype": "text/x-python",
   "name": "python",
   "nbconvert_exporter": "python",
   "pygments_lexer": "ipython3",
   "version": "3.7.1"
  }
 },
 "nbformat": 4,
 "nbformat_minor": 4
}
