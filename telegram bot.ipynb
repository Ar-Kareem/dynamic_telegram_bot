{
 "cells": [
  {
   "cell_type": "code",
   "execution_count": 137,
   "metadata": {},
   "outputs": [
    {
     "name": "stdout",
     "output_type": "stream",
     "text": [
      "56\n"
     ]
    },
    {
     "data": {
      "text/plain": [
       "False"
      ]
     },
     "execution_count": 137,
     "metadata": {},
     "output_type": "execute_result"
    }
   ],
   "source": [
    "import sys\n",
    "import guppy\n",
    "from abc import ABC\n",
    "\n",
    "\n",
    "class BaseAction(ABC):\n",
    "    @property\n",
    "    def payload(self) -> any:\n",
    "        \"\"\":return: the payload of the action\"\"\"\n",
    "        return None\n",
    "    \n",
    "class val(BaseAction):\n",
    "    def __init__(self, value):\n",
    "        self.value = value\n",
    "class Test2(Test):\n",
    "    pass\n",
    "\n",
    "d = dict()\n",
    "\n",
    "# hp = guppy.hpy()\n",
    "# hp.setrelheap()\n",
    "# a = [Test() for i in range(10_000)]\n",
    "print(sys.getsizeof(Test()))\n",
    "# print(hp.heap())\n",
    "# print(hp.heap().byid[0].sp)\n",
    "parents = [type('val_parent'+str(i), (val, ), {'__init__': lambda self, inp, i=i: val.__init__(self, i*100+inp)}) for i in range(100)]\n",
    "childs = [type(p.__name__+'-'+str(i), (p, ), {'__init__': lambda self, p=p, i=i: p.__init__(self, i)}) for p in parents for i in range(100)]\n",
    "childs[1] == childs[2]"
   ]
  },
  {
   "cell_type": "code",
   "execution_count": 256,
   "metadata": {},
   "outputs": [
    {
     "name": "stdout",
     "output_type": "stream",
     "text": [
      "<class 'type'>\n",
      "<class 'type'>\n"
     ]
    }
   ],
   "source": [
    "class hashtest(object): pass\n",
    "d = {hashtest: 1}\n",
    "class hashtest(object): pass\n",
    "d[hashtest] = 2\n",
    "for i in d.keys():\n",
    "    print(type(i))"
   ]
  },
  {
   "cell_type": "code",
   "execution_count": null,
   "metadata": {},
   "outputs": [],
   "source": []
  },
  {
   "cell_type": "code",
   "execution_count": null,
   "metadata": {},
   "outputs": [],
   "source": []
  },
  {
   "cell_type": "code",
   "execution_count": 74,
   "metadata": {},
   "outputs": [
    {
     "name": "stdout",
     "output_type": "stream",
     "text": [
      "---    BEFORE DEL\n",
      "ADDRESS COUNT: 1\n",
      "p1\n",
      "---    AFTER DEL\n",
      "ADDRESS COUNT: 0\n"
     ]
    },
    {
     "ename": "AttributeError",
     "evalue": "'NoneType' object has no attribute 'name'",
     "output_type": "error",
     "traceback": [
      "\u001b[1;31m---------------------------------------------------------------------------\u001b[0m",
      "\u001b[1;31mAttributeError\u001b[0m                            Traceback (most recent call last)",
      "\u001b[1;32m<ipython-input-74-2e67991e1837>\u001b[0m in \u001b[0;36m<module>\u001b[1;34m\u001b[0m\n\u001b[0;32m     32\u001b[0m \u001b[0mprint\u001b[0m\u001b[1;33m(\u001b[0m\u001b[1;34m'---    AFTER DEL'\u001b[0m\u001b[1;33m)\u001b[0m\u001b[1;33m\u001b[0m\u001b[1;33m\u001b[0m\u001b[0m\n\u001b[0;32m     33\u001b[0m \u001b[0mprint\u001b[0m\u001b[1;33m(\u001b[0m\u001b[1;34m'ADDRESS COUNT:'\u001b[0m\u001b[1;33m,\u001b[0m \u001b[0mctypes\u001b[0m\u001b[1;33m.\u001b[0m\u001b[0mc_long\u001b[0m\u001b[1;33m.\u001b[0m\u001b[0mfrom_address\u001b[0m\u001b[1;33m(\u001b[0m\u001b[0maddr\u001b[0m\u001b[1;33m)\u001b[0m\u001b[1;33m.\u001b[0m\u001b[0mvalue\u001b[0m\u001b[1;33m)\u001b[0m\u001b[1;33m\u001b[0m\u001b[1;33m\u001b[0m\u001b[0m\n\u001b[1;32m---> 34\u001b[1;33m \u001b[0mprint\u001b[0m\u001b[1;33m(\u001b[0m\u001b[0mk\u001b[0m\u001b[1;33m(\u001b[0m\u001b[1;33m)\u001b[0m\u001b[1;33m.\u001b[0m\u001b[0mname\u001b[0m\u001b[1;33m)\u001b[0m\u001b[1;33m\u001b[0m\u001b[1;33m\u001b[0m\u001b[0m\n\u001b[0m",
      "\u001b[1;31mAttributeError\u001b[0m: 'NoneType' object has no attribute 'name'"
     ]
    }
   ],
   "source": [
    "import ctypes\n",
    "import weakref\n",
    "import gc\n",
    "class printer(object):\n",
    "    def __init__(self, name):\n",
    "        self.name = name\n",
    "        self.weak_print_ref = weakref.WeakMethod(self.p)\n",
    "    def p(self, message):\n",
    "        print(f'Hello:\\n{self.name}\\n{message}\\n----')\n",
    "        \n",
    "    def gimme(self, hardcode):\n",
    "        w = self.weak_print_ref\n",
    "        def callab():\n",
    "            c = w()\n",
    "            if c:\n",
    "                c(hardcode)\n",
    "                return True\n",
    "            else:\n",
    "                return False\n",
    "        return callab\n",
    "\n",
    "#         return lambda: self.p(hardcode)\n",
    "\n",
    "l = printer('p1')\n",
    "addr = id(l)\n",
    "k = weakref.ref(l)\n",
    "print('---    BEFORE DEL')\n",
    "print('ADDRESS COUNT:', ctypes.c_long.from_address(addr).value)\n",
    "print(k().name)\n",
    "del l\n",
    "gc.collect()\n",
    "print('---    AFTER DEL')\n",
    "print('ADDRESS COUNT:', ctypes.c_long.from_address(addr).value)\n",
    "print(k().name)\n"
   ]
  },
  {
   "cell_type": "code",
   "execution_count": 355,
   "metadata": {},
   "outputs": [
    {
     "data": {
      "text/plain": [
       "False"
      ]
     },
     "execution_count": 355,
     "metadata": {},
     "output_type": "execute_result"
    }
   ],
   "source": [
    "from abc import ABC, abstractmethod\n",
    "\n",
    "class BaseAction(ABC):\n",
    "    @property\n",
    "    @abstractmethod\n",
    "    def name(self) -> str:\n",
    "        \"\"\":return: the name of action\"\"\"\n",
    "\n",
    "\n",
    "class TestAction(BaseAction):\n",
    "    name = 'test'\n",
    "\n",
    "TestAction\n",
    "isinstance(TestAction, BaseAction)"
   ]
  },
  {
   "cell_type": "code",
   "execution_count": 230,
   "metadata": {},
   "outputs": [
    {
     "name": "stdout",
     "output_type": "stream",
     "text": [
      "    a    a2 addd3\n",
      "    b baaa2    b3\n",
      "    c    c2    c3\n",
      "Wall time: 997 µs\n"
     ]
    }
   ],
   "source": [
    "%%time\n",
    "import numpy as np\n",
    "def print_table(t):\n",
    "    print('\\n'.join(' '.join(e.rjust(len(max(np.array(t).flatten(), key=len))) for e in row) for row in np.array(t).transpose()))\n",
    "\n",
    "\n",
    "t = [['a', 'b', 'c'], ['a2', 'baaa2', 'c2'], ['addd3', 'b3', 'c3']]\n",
    "print_table(t)"
   ]
  },
  {
   "cell_type": "code",
   "execution_count": 229,
   "metadata": {},
   "outputs": [
    {
     "data": {
      "text/plain": [
       "[['    a', '   a2', 'addd3'],\n",
       " ['    b', 'baaa2', '   b3'],\n",
       " ['    c', '   c2', '   c3']]"
      ]
     },
     "execution_count": 229,
     "metadata": {},
     "output_type": "execute_result"
    }
   ],
   "source": [
    "[[] for row in np.array(t).transpose()]"
   ]
  },
  {
   "cell_type": "code",
   "execution_count": 227,
   "metadata": {},
   "outputs": [
    {
     "data": {
      "text/plain": [
       "5"
      ]
     },
     "execution_count": 227,
     "metadata": {},
     "output_type": "execute_result"
    }
   ],
   "source": []
  },
  {
   "cell_type": "code",
   "execution_count": 80,
   "metadata": {},
   "outputs": [
    {
     "data": {
      "text/plain": [
       "[24]"
      ]
     },
     "execution_count": 80,
     "metadata": {},
     "output_type": "execute_result"
    }
   ],
   "source": [
    "a = list(range(25))\n",
    "a[:-2:-1]"
   ]
  },
  {
   "cell_type": "code",
   "execution_count": 47,
   "metadata": {},
   "outputs": [
    {
     "name": "stdout",
     "output_type": "stream",
     "text": [
      "hello name=kk, val=1\n",
      "hello name=asdf, val=3\n",
      "hello name=asdf2, val=2\n"
     ]
    }
   ],
   "source": [
    "# partial(echo, post=post)\n",
    "from functools import partial\n",
    "\n",
    "class Test():\n",
    "    def hello(self, val, name):\n",
    "        print(f'hello name={name}, val={val}')\n",
    "        \n",
    "    def gimme(self, name):\n",
    "        return partial(self.hello, name=name)\n",
    "\n",
    "a = Test()\n",
    "a.hello(1, 'kk')\n",
    "ca = a.gimme('asdf')\n",
    "ca2 = a.gimme('asdf2')\n",
    "ca(3)\n",
    "ca2(2)\n",
    "# a.set_alive()"
   ]
  },
  {
   "cell_type": "code",
   "execution_count": 3,
   "metadata": {},
   "outputs": [],
   "source": [
    "def wait_until(predicate, period=2):\n",
    "    while True:\n",
    "        if somepredicate(): return\n",
    "        time.sleep(period)\n"
   ]
  },
  {
   "cell_type": "code",
   "execution_count": 1,
   "metadata": {},
   "outputs": [],
   "source": [
    "import logging\n",
    "from telegram import Update\n",
    "from telegram.ext import Updater, CommandHandler, MessageHandler, Filters, CallbackContext\n",
    "import time\n",
    "\n",
    "def get_key():\n",
    "    with open('./bot_token.txt') as f:\n",
    "        return f.readline()\n",
    "\n",
    "\n",
    "    \n",
    "def start(update: Update, context: CallbackContext) -> None:\n",
    "    update.message.reply_text('Hi!')\n",
    "\n",
    "store = {}\n",
    "\n",
    "def echo(update: Update, context: CallbackContext) -> None:\n",
    "    store['c'] = context\n",
    "    store['u'] = update\n",
    "    print(context)\n",
    "    update.message.reply_text(update.message.text)\n",
    "\n",
    "def init_bot():\n",
    "    updater = Updater(get_key(), use_context=True)\n",
    "    dispatcher = updater.dispatcher\n",
    "    dispatcher.add_handler(CommandHandler(\"start\", start))\n",
    "    dispatcher.add_handler(MessageHandler(Filters.text & ~Filters.command, echo))\n",
    "    updater.start_polling()\n",
    "#     updater.idle()\n",
    "    return updater\n",
    "\n",
    "def main():\n",
    "    updater = init_bot()\n",
    "    updater.stop()\n",
    "\n",
    "if __name__ == '__main__':\n",
    "    pass\n",
    "#     main()\n"
   ]
  },
  {
   "cell_type": "code",
   "execution_count": 21,
   "metadata": {},
   "outputs": [
    {
     "name": "stderr",
     "output_type": "stream",
     "text": [
      "2020-12-12 00:30:21,740 - apscheduler.scheduler - INFO - Scheduler started\n"
     ]
    },
    {
     "name": "stdout",
     "output_type": "stream",
     "text": [
      "<telegram.ext.callbackcontext.CallbackContext object at 0x0000020EC6998FD0>\n"
     ]
    }
   ],
   "source": [
    "updater = init_bot()"
   ]
  },
  {
   "cell_type": "code",
   "execution_count": 22,
   "metadata": {},
   "outputs": [
    {
     "name": "stderr",
     "output_type": "stream",
     "text": [
      "2020-12-12 00:30:27,996 - apscheduler.scheduler - INFO - Scheduler has been shut down\n"
     ]
    }
   ],
   "source": [
    "updater.stop()"
   ]
  },
  {
   "cell_type": "code",
   "execution_count": 2,
   "metadata": {},
   "outputs": [],
   "source": [
    "updater = Updater('705564162:AAGbxD9mKJKL1P8GLdNQBjt4a7SJjJDUBrQ', use_context=True)\n",
    "updater.start_polling()\n",
    "updater.bot.send_message(chat_id=134936683, text='STARTED')\n",
    "try:\n",
    "    while True:\n",
    "        time.sleep(1)\n",
    "except KeyboardInterrupt:\n",
    "    pass\n",
    "finally:\n",
    "    updater.stop()"
   ]
  },
  {
   "cell_type": "code",
   "execution_count": 27,
   "metadata": {
    "scrolled": false
   },
   "outputs": [
    {
     "ename": "ConnectionRefusedError",
     "evalue": "[WinError 10061] No connection could be made because the target machine actively refused it",
     "output_type": "error",
     "traceback": [
      "\u001b[1;31m----------------------------------------------\u001b[0m",
      "\u001b[1;31mConnectionRefusedError\u001b[0mTraceback (most recent call last)",
      "\u001b[1;32m<ipython-input-27-650fb7292731>\u001b[0m in \u001b[0;36m<module>\u001b[1;34m\u001b[0m\n\u001b[0;32m      1\u001b[0m \u001b[1;32mimport\u001b[0m \u001b[0msocket\u001b[0m\u001b[1;33m\u001b[0m\u001b[1;33m\u001b[0m\u001b[0m\n\u001b[0;32m      2\u001b[0m \u001b[0ms\u001b[0m \u001b[1;33m=\u001b[0m \u001b[0msocket\u001b[0m\u001b[1;33m.\u001b[0m\u001b[0msocket\u001b[0m\u001b[1;33m(\u001b[0m\u001b[0msocket\u001b[0m\u001b[1;33m.\u001b[0m\u001b[0mAF_INET\u001b[0m\u001b[1;33m,\u001b[0m \u001b[0msocket\u001b[0m\u001b[1;33m.\u001b[0m\u001b[0mSOCK_STREAM\u001b[0m\u001b[1;33m)\u001b[0m\u001b[1;33m\u001b[0m\u001b[1;33m\u001b[0m\u001b[0m\n\u001b[1;32m----> 3\u001b[1;33m \u001b[0ms\u001b[0m\u001b[1;33m.\u001b[0m\u001b[0mconnect\u001b[0m\u001b[1;33m(\u001b[0m\u001b[1;33m(\u001b[0m\u001b[1;34m'185.207.164.140'\u001b[0m\u001b[1;33m,\u001b[0m \u001b[1;36m8049\u001b[0m\u001b[1;33m)\u001b[0m\u001b[1;33m)\u001b[0m\u001b[1;33m\u001b[0m\u001b[1;33m\u001b[0m\u001b[0m\n\u001b[0m\u001b[0;32m      4\u001b[0m \u001b[1;32mwhile\u001b[0m \u001b[1;36m1\u001b[0m\u001b[1;33m:\u001b[0m\u001b[1;33m\u001b[0m\u001b[1;33m\u001b[0m\u001b[0m\n\u001b[0;32m      5\u001b[0m     \u001b[0mdata\u001b[0m \u001b[1;33m=\u001b[0m \u001b[0ms\u001b[0m\u001b[1;33m.\u001b[0m\u001b[0mrecv\u001b[0m\u001b[1;33m(\u001b[0m\u001b[1;36m1024\u001b[0m\u001b[1;33m)\u001b[0m\u001b[1;33m\u001b[0m\u001b[1;33m\u001b[0m\u001b[0m\n",
      "\u001b[1;31mConnectionRefusedError\u001b[0m: [WinError 10061] No connection could be made because the target machine actively refused it"
     ]
    }
   ],
   "source": [
    "import socket\n",
    "s = socket.socket(socket.AF_INET, socket.SOCK_STREAM)\n",
    "s.connect(('185.207.164.140', 8049))\n",
    "while 1:\n",
    "    data = s.recv(1024)\n",
    "    print('Received', repr(data))\n",
    "s.close()\n"
   ]
  },
  {
   "cell_type": "code",
   "execution_count": null,
   "metadata": {},
   "outputs": [
    {
     "name": "stdout",
     "output_type": "stream",
     "text": [
      "Server started http://localhost:8016\n",
      "<__main__.MyServer object at 0x0000026F7E926940>\n"
     ]
    },
    {
     "name": "stderr",
     "output_type": "stream",
     "text": [
      "127.0.0.1 - - [20/Dec/2020 00:01:18] \"GET /a='asdfasd%20asdf' HTTP/1.1\" 200 -\n"
     ]
    }
   ],
   "source": [
    "# Python 3 server example\n",
    "from http.server import BaseHTTPRequestHandler, HTTPServer\n",
    "import time\n",
    "\n",
    "hostName = \"localhost\"\n",
    "serverPort = 8016\n",
    "\n",
    "class MyServer(BaseHTTPRequestHandler):\n",
    "    def do_GET(self):\n",
    "        print(self.__dir__())\n",
    "        self.send_response(200)\n",
    "        self.send_header(\"Content-type\", \"text/html\")\n",
    "        self.end_headers()\n",
    "        self.wfile.write(bytes(\"<html><head><title>https://pythonbasics.org</title></head>\", \"utf-8\"))\n",
    "        self.wfile.write(bytes(\"<p>Request: %s</p>\" % self.path, \"utf-8\"))\n",
    "        self.wfile.write(bytes(\"<body>\", \"utf-8\"))\n",
    "        self.wfile.write(bytes(\"<p>This is an example web server.</p>\", \"utf-8\"))\n",
    "        self.wfile.write(bytes(\"</body></html>\", \"utf-8\"))\n",
    "\n",
    "    def do_GET(self):\n",
    "        print(self)\n",
    "        self.send_response(200)\n",
    "        self.send_header(\"Content-type\", \"text/html\")\n",
    "        self.end_headers()\n",
    "        self.wfile.write(bytes(\"<html><head><title>https://pythonbasics.org</title></head>\", \"utf-8\"))\n",
    "        self.wfile.write(bytes(\"<p>Request: %s</p>\" % self.path, \"utf-8\"))\n",
    "        self.wfile.write(bytes(\"<body>\", \"utf-8\"))\n",
    "        self.wfile.write(bytes(\"<p>This is an example web server.</p>\", \"utf-8\"))\n",
    "        self.wfile.write(bytes(\"</body></html>\", \"utf-8\"))\n",
    "\n",
    "if __name__ == \"__main__\":        \n",
    "    webServer = HTTPServer((hostName, serverPort), MyServer)\n",
    "    print(\"Server started http://%s:%s\" % (hostName, serverPort))\n",
    "\n",
    "    try:\n",
    "        webServer.serve_forever()\n",
    "    except KeyboardInterrupt:\n",
    "        pass\n",
    "\n",
    "    webServer.server_close()\n",
    "    print(\"Server stopped.\")"
   ]
  },
  {
   "cell_type": "code",
   "execution_count": 20,
   "metadata": {
    "scrolled": true
   },
   "outputs": [],
   "source": [
    "from http.server import BaseHTTPRequestHandler, HTTPServer\n",
    "import threading\n",
    "import random\n",
    "import json\n",
    "\n",
    "\n",
    "class MyHTTPHandler(BaseHTTPRequestHandler):\n",
    "    def __init__(self, outside_world):\n",
    "        self.outside_world = outside_world\n",
    "\n",
    "    def __call__(self, *args, **kwargs):\n",
    "        \"\"\" Handle a request \"\"\"\n",
    "        super().__init__(*args, **kwargs)\n",
    "        \n",
    "    def _set_headers(self):\n",
    "        self.send_response(200)\n",
    "        self.send_header('Content-type', 'text/html')\n",
    "        self.end_headers()\n",
    "\n",
    "    def do_GET(self):\n",
    "        self.send_response(404)\n",
    "        self.send_header('Content-type', 'text/html')\n",
    "        self.end_headers()\n",
    "\n",
    "    def do_HEAD(self):\n",
    "        self._set_headers()\n",
    "\n",
    "    def do_POST(self):\n",
    "        self._set_headers()\n",
    "        self.data_string = self.rfile.read(int(self.headers['Content-Length']))\n",
    "        self.send_response(200)\n",
    "        self.end_headers()\n",
    "        js_data = json.loads(self.data_string)\n",
    "#         print(\"{}\".format(js_data))\n",
    "        self.outside_world.append(js_data)\n",
    "\n",
    "def my_serve_forever(server):\n",
    "    server.serve_forever()\n",
    "        \n",
    "def start_server(outside_world):\n",
    "    hostName = \"localhost\"\n",
    "    serverPort = 8049\n",
    "    handler = MyHTTPHandler(outside_world)\n",
    "    webServer = HTTPServer((hostName, serverPort), handler)\n",
    "    \n",
    "    thread = threading.Thread(target = my_serve_forever, args=(webServer,))\n",
    "    thread.daemon = True\n",
    "    thread.start()\n",
    "    def killswitch():\n",
    "        webServer.shutdown()\n",
    "    return killswitch\n",
    "if __name__ == \"__main__\":\n",
    "    killswitch = start_server(glob)"
   ]
  },
  {
   "cell_type": "code",
   "execution_count": 15,
   "metadata": {},
   "outputs": [
    {
     "data": {
      "text/plain": [
       "\"{'key': 'value'}\""
      ]
     },
     "execution_count": 15,
     "metadata": {},
     "output_type": "execute_result"
    }
   ],
   "source": [
    "# glob = []\n",
    "# killswitch()\n",
    "str(glob[-1])"
   ]
  },
  {
   "cell_type": "code",
   "execution_count": 7,
   "metadata": {},
   "outputs": [],
   "source": [
    "import requests\n",
    "# r = requests.post('http://185.207.164.140:8049/', json={\"key\": \"value\"})\n",
    "r = requests.post('http://185.207.164.140:8049/', json={\"key\": [1, 2, 3]})"
   ]
  },
  {
   "cell_type": "code",
   "execution_count": 56,
   "metadata": {},
   "outputs": [],
   "source": []
  },
  {
   "cell_type": "code",
   "execution_count": 116,
   "metadata": {},
   "outputs": [
    {
     "name": "stdout",
     "output_type": "stream",
     "text": [
      "\n",
      "\n",
      "\n",
      "\n",
      "\n",
      "\n",
      "\n",
      "\n",
      "\n",
      "\n",
      "\n",
      "\n",
      "\n",
      "\n",
      "\n",
      "\n",
      "\n",
      "\n",
      "\n",
      "\n",
      "\n",
      "\n",
      "\n",
      "\n",
      "\n",
      "\n"
     ]
    }
   ],
   "source": [
    "print('\\n'*25)"
   ]
  }
 ],
 "metadata": {
  "kernelspec": {
   "display_name": "Python 3",
   "language": "python",
   "name": "python3"
  },
  "language_info": {
   "codemirror_mode": {
    "name": "ipython",
    "version": 3
   },
   "file_extension": ".py",
   "mimetype": "text/x-python",
   "name": "python",
   "nbconvert_exporter": "python",
   "pygments_lexer": "ipython3",
   "version": "3.7.1"
  }
 },
 "nbformat": 4,
 "nbformat_minor": 4
}
